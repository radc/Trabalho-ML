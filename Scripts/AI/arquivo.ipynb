{
 "cells": [
  {
   "cell_type": "markdown",
   "metadata": {},
   "source": [
    "<h1>Importando CSV</h1>"
   ]
  },
  {
   "cell_type": "code",
   "execution_count": 51,
   "metadata": {},
   "outputs": [],
   "source": [
    "import pandas as pd\n",
    "import numpy as np\n",
    "\n",
    "df_codingdata = pd.read_csv(\"../cudata.csv\",sep=\"\\t\", names=[\"baseqp\",\"cost\",\"cunumberpel\",\"currbtdepth\",\"currdepth\",\"currmtdepth\",\"currqtdepth\",\"currtrdepth\",\"diagavg\",\n",
    "      \"diagsad\",\"diavar\",\"diffminmax\",\"distortion\",\"fracbits\",\"height\",\"max\",\"min\",\"modetype\",\"poc\",\"qp\",\n",
    "      \"pelavg\",\"pelcornersavg\",\"peldiffdiagonal\",\"peldifffullcorneravg\",\"squaredcu\",\"videoresheight\",\"videoreswidth\",\n",
    "      \"treetype\",\"width\",\"x\",\"y\",\"prevpocheight\",\"prevpocwidth\",\"thisheightminusprevheight\",\"thiswidthminusprevwidth\",\n",
    "      \"thissizeminusprevsize\"])\n",
    "\n",
    "df_desfecho = pd.read_csv(\"../desfecho.csv\",sep=\"\\t\", index_col=0 ,names=[\"poc\",\"depth\",\"x\",\"y\",\"w\",\"h\"])"
   ]
  },
  {
   "cell_type": "code",
   "execution_count": 88,
   "metadata": {},
   "outputs": [],
   "source": [
    "def setTarget(line) :\n",
    "    \n",
    "    x = line['x']   \n",
    "    y = line['y']\n",
    "    h = line['height']\n",
    "    w = line['width']\n",
    "    poc = line['poc']\n",
    "    \n",
    "    xF = x+w-1\n",
    "    yF = y+h-1\n",
    "\n",
    "    filtered_target = df_desfecho[df_desfecho['poc']==poc]\n",
    "    filtered_target = filtered_target[(filtered_target[\"x\"]<xF)]\n",
    "    filtered_target = filtered_target[(filtered_target[\"y\"]<yF)]\n",
    "    filtered_target = filtered_target[(filtered_target[\"x\"]>=x)]\n",
    "    filtered_target = filtered_target[(filtered_target[\"y\"]>=y)]\n",
    "\n",
    "    \n",
    "\n",
    "    if(len(filtered_target) == 0):\n",
    "        return 0\n",
    "    else :\n",
    "        return 1\n",
    "    \n",
    "\n"
   ]
  },
  {
   "cell_type": "code",
   "execution_count": 89,
   "metadata": {},
   "outputs": [],
   "source": [
    "targets = df_codingdata.apply(setTarget , axis=1)"
   ]
  },
  {
   "cell_type": "markdown",
   "metadata": {},
   "source": [
    "print(targets)"
   ]
  },
  {
   "cell_type": "code",
   "execution_count": 92,
   "metadata": {},
   "outputs": [],
   "source": [
    "df_codingdata['target'] = targets"
   ]
  },
  {
   "cell_type": "code",
   "execution_count": 97,
   "metadata": {},
   "outputs": [
    {
     "name": "stdout",
     "output_type": "stream",
     "text": [
      "246899\n",
      "290392\n"
     ]
    }
   ],
   "source": [
    "print(len(df_codingdata[df_codingdata['target']==0]))\n",
    "print(len(df_codingdata[df_codingdata['target']==1]))"
   ]
  }
 ],
 "metadata": {
  "kernelspec": {
   "display_name": "Python 3",
   "language": "python",
   "name": "python3"
  },
  "language_info": {
   "codemirror_mode": {
    "name": "ipython",
    "version": 3
   },
   "file_extension": ".py",
   "mimetype": "text/x-python",
   "name": "python",
   "nbconvert_exporter": "python",
   "pygments_lexer": "ipython3",
   "version": "3.8.10"
  }
 },
 "nbformat": 4,
 "nbformat_minor": 2
}
